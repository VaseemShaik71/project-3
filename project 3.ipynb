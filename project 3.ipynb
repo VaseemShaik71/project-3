{
 "cells": [
  {
   "cell_type": "code",
   "execution_count": 1,
   "metadata": {},
   "outputs": [],
   "source": [
    "import pandas as pd\n"
   ]
  },
  {
   "cell_type": "code",
   "execution_count": 2,
   "metadata": {},
   "outputs": [],
   "source": [
    "import numpy as np"
   ]
  },
  {
   "cell_type": "code",
   "execution_count": 41,
   "metadata": {},
   "outputs": [],
   "source": [
    "df_ln = pd.read_csv('loan_data.csv')"
   ]
  },
  {
   "cell_type": "code",
   "execution_count": 44,
   "metadata": {},
   "outputs": [
    {
     "data": {
      "text/html": [
       "<div>\n",
       "<style scoped>\n",
       "    .dataframe tbody tr th:only-of-type {\n",
       "        vertical-align: middle;\n",
       "    }\n",
       "\n",
       "    .dataframe tbody tr th {\n",
       "        vertical-align: top;\n",
       "    }\n",
       "\n",
       "    .dataframe thead th {\n",
       "        text-align: right;\n",
       "    }\n",
       "</style>\n",
       "<table border=\"1\" class=\"dataframe\">\n",
       "  <thead>\n",
       "    <tr style=\"text-align: right;\">\n",
       "      <th></th>\n",
       "      <th>credit_policy</th>\n",
       "      <th>purpose</th>\n",
       "      <th>int.rate</th>\n",
       "      <th>installment</th>\n",
       "      <th>log.annual.inc</th>\n",
       "      <th>dti</th>\n",
       "      <th>fico</th>\n",
       "      <th>days.with.cr.line</th>\n",
       "      <th>revol.bal</th>\n",
       "      <th>revol.util</th>\n",
       "      <th>inq.last.6mths</th>\n",
       "      <th>delinq.2yrs</th>\n",
       "      <th>pub.rec</th>\n",
       "      <th>not.fully.paid</th>\n",
       "    </tr>\n",
       "  </thead>\n",
       "  <tbody>\n",
       "    <tr>\n",
       "      <th>0</th>\n",
       "      <td>1</td>\n",
       "      <td>debt_consolidation</td>\n",
       "      <td>0.1189</td>\n",
       "      <td>829.10</td>\n",
       "      <td>11.350407</td>\n",
       "      <td>19.48</td>\n",
       "      <td>737</td>\n",
       "      <td>5639.958333</td>\n",
       "      <td>28854</td>\n",
       "      <td>52.1</td>\n",
       "      <td>0</td>\n",
       "      <td>0</td>\n",
       "      <td>0</td>\n",
       "      <td>0</td>\n",
       "    </tr>\n",
       "    <tr>\n",
       "      <th>1</th>\n",
       "      <td>1</td>\n",
       "      <td>credit_card</td>\n",
       "      <td>0.1071</td>\n",
       "      <td>228.22</td>\n",
       "      <td>11.082143</td>\n",
       "      <td>14.29</td>\n",
       "      <td>707</td>\n",
       "      <td>2760.000000</td>\n",
       "      <td>33623</td>\n",
       "      <td>76.7</td>\n",
       "      <td>0</td>\n",
       "      <td>0</td>\n",
       "      <td>0</td>\n",
       "      <td>0</td>\n",
       "    </tr>\n",
       "    <tr>\n",
       "      <th>2</th>\n",
       "      <td>1</td>\n",
       "      <td>debt_consolidation</td>\n",
       "      <td>0.1357</td>\n",
       "      <td>366.86</td>\n",
       "      <td>10.373491</td>\n",
       "      <td>11.63</td>\n",
       "      <td>682</td>\n",
       "      <td>4710.000000</td>\n",
       "      <td>3511</td>\n",
       "      <td>25.6</td>\n",
       "      <td>1</td>\n",
       "      <td>0</td>\n",
       "      <td>0</td>\n",
       "      <td>0</td>\n",
       "    </tr>\n",
       "    <tr>\n",
       "      <th>3</th>\n",
       "      <td>1</td>\n",
       "      <td>debt_consolidation</td>\n",
       "      <td>0.1008</td>\n",
       "      <td>162.34</td>\n",
       "      <td>11.350407</td>\n",
       "      <td>8.10</td>\n",
       "      <td>712</td>\n",
       "      <td>2699.958333</td>\n",
       "      <td>33667</td>\n",
       "      <td>73.2</td>\n",
       "      <td>1</td>\n",
       "      <td>0</td>\n",
       "      <td>0</td>\n",
       "      <td>0</td>\n",
       "    </tr>\n",
       "    <tr>\n",
       "      <th>4</th>\n",
       "      <td>1</td>\n",
       "      <td>credit_card</td>\n",
       "      <td>0.1426</td>\n",
       "      <td>102.92</td>\n",
       "      <td>11.299732</td>\n",
       "      <td>14.97</td>\n",
       "      <td>667</td>\n",
       "      <td>4066.000000</td>\n",
       "      <td>4740</td>\n",
       "      <td>39.5</td>\n",
       "      <td>0</td>\n",
       "      <td>1</td>\n",
       "      <td>0</td>\n",
       "      <td>0</td>\n",
       "    </tr>\n",
       "  </tbody>\n",
       "</table>\n",
       "</div>"
      ],
      "text/plain": [
       "   credit_policy             purpose  int.rate  installment  log.annual.inc  \\\n",
       "0              1  debt_consolidation    0.1189       829.10       11.350407   \n",
       "1              1         credit_card    0.1071       228.22       11.082143   \n",
       "2              1  debt_consolidation    0.1357       366.86       10.373491   \n",
       "3              1  debt_consolidation    0.1008       162.34       11.350407   \n",
       "4              1         credit_card    0.1426       102.92       11.299732   \n",
       "\n",
       "     dti  fico  days.with.cr.line  revol.bal  revol.util  inq.last.6mths  \\\n",
       "0  19.48   737        5639.958333      28854        52.1               0   \n",
       "1  14.29   707        2760.000000      33623        76.7               0   \n",
       "2  11.63   682        4710.000000       3511        25.6               1   \n",
       "3   8.10   712        2699.958333      33667        73.2               1   \n",
       "4  14.97   667        4066.000000       4740        39.5               0   \n",
       "\n",
       "   delinq.2yrs  pub.rec  not.fully.paid  \n",
       "0            0        0               0  \n",
       "1            0        0               0  \n",
       "2            0        0               0  \n",
       "3            0        0               0  \n",
       "4            1        0               0  "
      ]
     },
     "execution_count": 44,
     "metadata": {},
     "output_type": "execute_result"
    }
   ],
   "source": [
    "df_ln.head()"
   ]
  },
  {
   "cell_type": "code",
   "execution_count": 38,
   "metadata": {},
   "outputs": [
    {
     "data": {
      "text/plain": [
       "(9578, 14)"
      ]
     },
     "execution_count": 38,
     "metadata": {},
     "output_type": "execute_result"
    }
   ],
   "source": [
    "df_ln.shape"
   ]
  },
  {
   "cell_type": "code",
   "execution_count": 43,
   "metadata": {},
   "outputs": [],
   "source": [
    "df_ln.rename(columns={'credit.policy':'credit_policy'},inplace=True)"
   ]
  },
  {
   "cell_type": "code",
   "execution_count": 45,
   "metadata": {},
   "outputs": [
    {
     "data": {
      "text/plain": [
       "array([1, 0])"
      ]
     },
     "execution_count": 45,
     "metadata": {},
     "output_type": "execute_result"
    }
   ],
   "source": [
    "df_ln.credit_policy.unique()"
   ]
  },
  {
   "cell_type": "code",
   "execution_count": 46,
   "metadata": {},
   "outputs": [
    {
     "data": {
      "text/plain": [
       "credit_policy        0\n",
       "purpose              0\n",
       "int.rate             0\n",
       "installment          0\n",
       "log.annual.inc       0\n",
       "dti                  0\n",
       "fico                 0\n",
       "days.with.cr.line    0\n",
       "revol.bal            0\n",
       "revol.util           0\n",
       "inq.last.6mths       0\n",
       "delinq.2yrs          0\n",
       "pub.rec              0\n",
       "not.fully.paid       0\n",
       "dtype: int64"
      ]
     },
     "execution_count": 46,
     "metadata": {},
     "output_type": "execute_result"
    }
   ],
   "source": [
    "df_ln.isna().sum()"
   ]
  },
  {
   "cell_type": "code",
   "execution_count": 47,
   "metadata": {},
   "outputs": [],
   "source": [
    "df_ln['purpose'].replace(['debt_consolidation','educational','credit_card','home_improvement','all_other','small_business','major_purchase'],[0,1,2,3,4,5,6],inplace=True)"
   ]
  },
  {
   "cell_type": "code",
   "execution_count": 48,
   "metadata": {},
   "outputs": [
    {
     "data": {
      "text/html": [
       "<div>\n",
       "<style scoped>\n",
       "    .dataframe tbody tr th:only-of-type {\n",
       "        vertical-align: middle;\n",
       "    }\n",
       "\n",
       "    .dataframe tbody tr th {\n",
       "        vertical-align: top;\n",
       "    }\n",
       "\n",
       "    .dataframe thead th {\n",
       "        text-align: right;\n",
       "    }\n",
       "</style>\n",
       "<table border=\"1\" class=\"dataframe\">\n",
       "  <thead>\n",
       "    <tr style=\"text-align: right;\">\n",
       "      <th></th>\n",
       "      <th>credit_policy</th>\n",
       "      <th>purpose</th>\n",
       "      <th>int.rate</th>\n",
       "      <th>installment</th>\n",
       "      <th>log.annual.inc</th>\n",
       "      <th>dti</th>\n",
       "      <th>fico</th>\n",
       "      <th>days.with.cr.line</th>\n",
       "      <th>revol.bal</th>\n",
       "      <th>revol.util</th>\n",
       "      <th>inq.last.6mths</th>\n",
       "      <th>delinq.2yrs</th>\n",
       "      <th>pub.rec</th>\n",
       "      <th>not.fully.paid</th>\n",
       "    </tr>\n",
       "  </thead>\n",
       "  <tbody>\n",
       "    <tr>\n",
       "      <th>0</th>\n",
       "      <td>1</td>\n",
       "      <td>0</td>\n",
       "      <td>0.1189</td>\n",
       "      <td>829.10</td>\n",
       "      <td>11.350407</td>\n",
       "      <td>19.48</td>\n",
       "      <td>737</td>\n",
       "      <td>5639.958333</td>\n",
       "      <td>28854</td>\n",
       "      <td>52.1</td>\n",
       "      <td>0</td>\n",
       "      <td>0</td>\n",
       "      <td>0</td>\n",
       "      <td>0</td>\n",
       "    </tr>\n",
       "    <tr>\n",
       "      <th>1</th>\n",
       "      <td>1</td>\n",
       "      <td>2</td>\n",
       "      <td>0.1071</td>\n",
       "      <td>228.22</td>\n",
       "      <td>11.082143</td>\n",
       "      <td>14.29</td>\n",
       "      <td>707</td>\n",
       "      <td>2760.000000</td>\n",
       "      <td>33623</td>\n",
       "      <td>76.7</td>\n",
       "      <td>0</td>\n",
       "      <td>0</td>\n",
       "      <td>0</td>\n",
       "      <td>0</td>\n",
       "    </tr>\n",
       "    <tr>\n",
       "      <th>2</th>\n",
       "      <td>1</td>\n",
       "      <td>0</td>\n",
       "      <td>0.1357</td>\n",
       "      <td>366.86</td>\n",
       "      <td>10.373491</td>\n",
       "      <td>11.63</td>\n",
       "      <td>682</td>\n",
       "      <td>4710.000000</td>\n",
       "      <td>3511</td>\n",
       "      <td>25.6</td>\n",
       "      <td>1</td>\n",
       "      <td>0</td>\n",
       "      <td>0</td>\n",
       "      <td>0</td>\n",
       "    </tr>\n",
       "    <tr>\n",
       "      <th>3</th>\n",
       "      <td>1</td>\n",
       "      <td>0</td>\n",
       "      <td>0.1008</td>\n",
       "      <td>162.34</td>\n",
       "      <td>11.350407</td>\n",
       "      <td>8.10</td>\n",
       "      <td>712</td>\n",
       "      <td>2699.958333</td>\n",
       "      <td>33667</td>\n",
       "      <td>73.2</td>\n",
       "      <td>1</td>\n",
       "      <td>0</td>\n",
       "      <td>0</td>\n",
       "      <td>0</td>\n",
       "    </tr>\n",
       "    <tr>\n",
       "      <th>4</th>\n",
       "      <td>1</td>\n",
       "      <td>2</td>\n",
       "      <td>0.1426</td>\n",
       "      <td>102.92</td>\n",
       "      <td>11.299732</td>\n",
       "      <td>14.97</td>\n",
       "      <td>667</td>\n",
       "      <td>4066.000000</td>\n",
       "      <td>4740</td>\n",
       "      <td>39.5</td>\n",
       "      <td>0</td>\n",
       "      <td>1</td>\n",
       "      <td>0</td>\n",
       "      <td>0</td>\n",
       "    </tr>\n",
       "    <tr>\n",
       "      <th>...</th>\n",
       "      <td>...</td>\n",
       "      <td>...</td>\n",
       "      <td>...</td>\n",
       "      <td>...</td>\n",
       "      <td>...</td>\n",
       "      <td>...</td>\n",
       "      <td>...</td>\n",
       "      <td>...</td>\n",
       "      <td>...</td>\n",
       "      <td>...</td>\n",
       "      <td>...</td>\n",
       "      <td>...</td>\n",
       "      <td>...</td>\n",
       "      <td>...</td>\n",
       "    </tr>\n",
       "    <tr>\n",
       "      <th>9573</th>\n",
       "      <td>0</td>\n",
       "      <td>4</td>\n",
       "      <td>0.1461</td>\n",
       "      <td>344.76</td>\n",
       "      <td>12.180755</td>\n",
       "      <td>10.39</td>\n",
       "      <td>672</td>\n",
       "      <td>10474.000000</td>\n",
       "      <td>215372</td>\n",
       "      <td>82.1</td>\n",
       "      <td>2</td>\n",
       "      <td>0</td>\n",
       "      <td>0</td>\n",
       "      <td>1</td>\n",
       "    </tr>\n",
       "    <tr>\n",
       "      <th>9574</th>\n",
       "      <td>0</td>\n",
       "      <td>4</td>\n",
       "      <td>0.1253</td>\n",
       "      <td>257.70</td>\n",
       "      <td>11.141862</td>\n",
       "      <td>0.21</td>\n",
       "      <td>722</td>\n",
       "      <td>4380.000000</td>\n",
       "      <td>184</td>\n",
       "      <td>1.1</td>\n",
       "      <td>5</td>\n",
       "      <td>0</td>\n",
       "      <td>0</td>\n",
       "      <td>1</td>\n",
       "    </tr>\n",
       "    <tr>\n",
       "      <th>9575</th>\n",
       "      <td>0</td>\n",
       "      <td>0</td>\n",
       "      <td>0.1071</td>\n",
       "      <td>97.81</td>\n",
       "      <td>10.596635</td>\n",
       "      <td>13.09</td>\n",
       "      <td>687</td>\n",
       "      <td>3450.041667</td>\n",
       "      <td>10036</td>\n",
       "      <td>82.9</td>\n",
       "      <td>8</td>\n",
       "      <td>0</td>\n",
       "      <td>0</td>\n",
       "      <td>1</td>\n",
       "    </tr>\n",
       "    <tr>\n",
       "      <th>9576</th>\n",
       "      <td>0</td>\n",
       "      <td>3</td>\n",
       "      <td>0.1600</td>\n",
       "      <td>351.58</td>\n",
       "      <td>10.819778</td>\n",
       "      <td>19.18</td>\n",
       "      <td>692</td>\n",
       "      <td>1800.000000</td>\n",
       "      <td>0</td>\n",
       "      <td>3.2</td>\n",
       "      <td>5</td>\n",
       "      <td>0</td>\n",
       "      <td>0</td>\n",
       "      <td>1</td>\n",
       "    </tr>\n",
       "    <tr>\n",
       "      <th>9577</th>\n",
       "      <td>0</td>\n",
       "      <td>0</td>\n",
       "      <td>0.1392</td>\n",
       "      <td>853.43</td>\n",
       "      <td>11.264464</td>\n",
       "      <td>16.28</td>\n",
       "      <td>732</td>\n",
       "      <td>4740.000000</td>\n",
       "      <td>37879</td>\n",
       "      <td>57.0</td>\n",
       "      <td>6</td>\n",
       "      <td>0</td>\n",
       "      <td>0</td>\n",
       "      <td>1</td>\n",
       "    </tr>\n",
       "  </tbody>\n",
       "</table>\n",
       "<p>9578 rows × 14 columns</p>\n",
       "</div>"
      ],
      "text/plain": [
       "      credit_policy  purpose  int.rate  installment  log.annual.inc    dti  \\\n",
       "0                 1        0    0.1189       829.10       11.350407  19.48   \n",
       "1                 1        2    0.1071       228.22       11.082143  14.29   \n",
       "2                 1        0    0.1357       366.86       10.373491  11.63   \n",
       "3                 1        0    0.1008       162.34       11.350407   8.10   \n",
       "4                 1        2    0.1426       102.92       11.299732  14.97   \n",
       "...             ...      ...       ...          ...             ...    ...   \n",
       "9573              0        4    0.1461       344.76       12.180755  10.39   \n",
       "9574              0        4    0.1253       257.70       11.141862   0.21   \n",
       "9575              0        0    0.1071        97.81       10.596635  13.09   \n",
       "9576              0        3    0.1600       351.58       10.819778  19.18   \n",
       "9577              0        0    0.1392       853.43       11.264464  16.28   \n",
       "\n",
       "      fico  days.with.cr.line  revol.bal  revol.util  inq.last.6mths  \\\n",
       "0      737        5639.958333      28854        52.1               0   \n",
       "1      707        2760.000000      33623        76.7               0   \n",
       "2      682        4710.000000       3511        25.6               1   \n",
       "3      712        2699.958333      33667        73.2               1   \n",
       "4      667        4066.000000       4740        39.5               0   \n",
       "...    ...                ...        ...         ...             ...   \n",
       "9573   672       10474.000000     215372        82.1               2   \n",
       "9574   722        4380.000000        184         1.1               5   \n",
       "9575   687        3450.041667      10036        82.9               8   \n",
       "9576   692        1800.000000          0         3.2               5   \n",
       "9577   732        4740.000000      37879        57.0               6   \n",
       "\n",
       "      delinq.2yrs  pub.rec  not.fully.paid  \n",
       "0               0        0               0  \n",
       "1               0        0               0  \n",
       "2               0        0               0  \n",
       "3               0        0               0  \n",
       "4               1        0               0  \n",
       "...           ...      ...             ...  \n",
       "9573            0        0               1  \n",
       "9574            0        0               1  \n",
       "9575            0        0               1  \n",
       "9576            0        0               1  \n",
       "9577            0        0               1  \n",
       "\n",
       "[9578 rows x 14 columns]"
      ]
     },
     "execution_count": 48,
     "metadata": {},
     "output_type": "execute_result"
    }
   ],
   "source": [
    "df_ln"
   ]
  },
  {
   "cell_type": "code",
   "execution_count": 49,
   "metadata": {},
   "outputs": [],
   "source": [
    "X = df_ln.drop(['credit_policy'],axis=1)\n",
    "y = df_ln['credit_policy']"
   ]
  },
  {
   "cell_type": "code",
   "execution_count": 50,
   "metadata": {},
   "outputs": [],
   "source": [
    "np.random.seed(12345)"
   ]
  },
  {
   "cell_type": "code",
   "execution_count": 51,
   "metadata": {},
   "outputs": [],
   "source": [
    "from sklearn.model_selection import train_test_split"
   ]
  },
  {
   "cell_type": "code",
   "execution_count": 52,
   "metadata": {},
   "outputs": [],
   "source": [
    "X_train, X_test, y_train,y_test = train_test_split(X,\n",
    "                                                   y,\n",
    "                                                   stratify = y,\n",
    "                                                   test_size=0.2,\n",
    "                                                   random_state=12345)"
   ]
  },
  {
   "cell_type": "code",
   "execution_count": 53,
   "metadata": {},
   "outputs": [
    {
     "data": {
      "text/plain": [
       "(7662, 13)"
      ]
     },
     "execution_count": 53,
     "metadata": {},
     "output_type": "execute_result"
    }
   ],
   "source": [
    "X_train.shape"
   ]
  },
  {
   "cell_type": "code",
   "execution_count": 54,
   "metadata": {},
   "outputs": [
    {
     "data": {
      "text/plain": [
       "(1916, 13)"
      ]
     },
     "execution_count": 54,
     "metadata": {},
     "output_type": "execute_result"
    }
   ],
   "source": [
    "X_test.shape"
   ]
  },
  {
   "cell_type": "code",
   "execution_count": 55,
   "metadata": {},
   "outputs": [],
   "source": [
    "from sklearn.preprocessing import StandardScaler"
   ]
  },
  {
   "cell_type": "code",
   "execution_count": 56,
   "metadata": {},
   "outputs": [],
   "source": [
    "scaler = StandardScaler()\n",
    "X_train_scaled = scaler.fit_transform(X_train)\n",
    "X_test_scaled = scaler.transform(X_test)"
   ]
  },
  {
   "cell_type": "code",
   "execution_count": 57,
   "metadata": {},
   "outputs": [],
   "source": [
    "import tensorflow as tf"
   ]
  },
  {
   "cell_type": "code",
   "execution_count": 58,
   "metadata": {},
   "outputs": [
    {
     "name": "stdout",
     "output_type": "stream",
     "text": [
      "2.8.0\n"
     ]
    }
   ],
   "source": [
    "print(tf.__version__)"
   ]
  },
  {
   "cell_type": "code",
   "execution_count": 59,
   "metadata": {},
   "outputs": [],
   "source": [
    "from tensorflow.keras.models import Sequential"
   ]
  },
  {
   "cell_type": "code",
   "execution_count": 60,
   "metadata": {},
   "outputs": [],
   "source": [
    "from tensorflow.keras.layers import Dense, Input"
   ]
  },
  {
   "cell_type": "code",
   "execution_count": 61,
   "metadata": {},
   "outputs": [],
   "source": [
    "model = Sequential()"
   ]
  },
  {
   "cell_type": "code",
   "execution_count": 62,
   "metadata": {},
   "outputs": [
    {
     "data": {
      "text/plain": [
       "13"
      ]
     },
     "execution_count": 62,
     "metadata": {},
     "output_type": "execute_result"
    }
   ],
   "source": [
    "X_train_scaled.shape[1]"
   ]
  },
  {
   "cell_type": "code",
   "execution_count": 63,
   "metadata": {},
   "outputs": [],
   "source": [
    "model.add(Input(shape = (X_train_scaled.shape[1],)))"
   ]
  },
  {
   "cell_type": "code",
   "execution_count": 64,
   "metadata": {},
   "outputs": [],
   "source": [
    "model.add(Dense(units=128,\n",
    "                activation='relu'\n",
    "         ))"
   ]
  },
  {
   "cell_type": "code",
   "execution_count": 65,
   "metadata": {},
   "outputs": [],
   "source": [
    "model.add(Dense(units=64, activation='relu'))\n",
    "model.add(Dense(units=32, activation='relu'))"
   ]
  },
  {
   "cell_type": "code",
   "execution_count": 66,
   "metadata": {},
   "outputs": [],
   "source": [
    "model.add(Dense(units=1, activation='sigmoid'))"
   ]
  },
  {
   "cell_type": "code",
   "execution_count": 67,
   "metadata": {},
   "outputs": [
    {
     "name": "stdout",
     "output_type": "stream",
     "text": [
      "Model: \"sequential\"\n",
      "_________________________________________________________________\n",
      " Layer (type)                Output Shape              Param #   \n",
      "=================================================================\n",
      " dense (Dense)               (None, 128)               1792      \n",
      "                                                                 \n",
      " dense_1 (Dense)             (None, 64)                8256      \n",
      "                                                                 \n",
      " dense_2 (Dense)             (None, 32)                2080      \n",
      "                                                                 \n",
      " dense_3 (Dense)             (None, 1)                 33        \n",
      "                                                                 \n",
      "=================================================================\n",
      "Total params: 12,161\n",
      "Trainable params: 12,161\n",
      "Non-trainable params: 0\n",
      "_________________________________________________________________\n"
     ]
    }
   ],
   "source": [
    "model.summary()"
   ]
  },
  {
   "cell_type": "code",
   "execution_count": 68,
   "metadata": {},
   "outputs": [],
   "source": [
    "model.compile(optimizer='adam',\n",
    "              loss= 'binary_crossentropy',\n",
    "              metrics=['accuracy'])"
   ]
  },
  {
   "cell_type": "code",
   "execution_count": 69,
   "metadata": {},
   "outputs": [
    {
     "name": "stdout",
     "output_type": "stream",
     "text": [
      "Epoch 1/100\n",
      "240/240 [==============================] - 1s 3ms/step - loss: 0.2957 - accuracy: 0.8846 - val_loss: 0.2422 - val_accuracy: 0.8972\n",
      "Epoch 2/100\n",
      "240/240 [==============================] - 1s 2ms/step - loss: 0.2144 - accuracy: 0.9163 - val_loss: 0.2015 - val_accuracy: 0.9160\n",
      "Epoch 3/100\n",
      "240/240 [==============================] - 1s 2ms/step - loss: 0.1878 - accuracy: 0.9243 - val_loss: 0.2086 - val_accuracy: 0.9076\n",
      "Epoch 4/100\n",
      "240/240 [==============================] - 1s 3ms/step - loss: 0.1630 - accuracy: 0.9342 - val_loss: 0.1710 - val_accuracy: 0.9322\n",
      "Epoch 5/100\n",
      "240/240 [==============================] - 1s 3ms/step - loss: 0.1459 - accuracy: 0.9434 - val_loss: 0.1599 - val_accuracy: 0.9374\n",
      "Epoch 6/100\n",
      "240/240 [==============================] - 1s 2ms/step - loss: 0.1321 - accuracy: 0.9508 - val_loss: 0.1402 - val_accuracy: 0.9494\n",
      "Epoch 7/100\n",
      "240/240 [==============================] - 1s 2ms/step - loss: 0.1188 - accuracy: 0.9556 - val_loss: 0.1307 - val_accuracy: 0.9494\n",
      "Epoch 8/100\n",
      "240/240 [==============================] - 1s 2ms/step - loss: 0.1048 - accuracy: 0.9629 - val_loss: 0.1365 - val_accuracy: 0.9473\n",
      "Epoch 9/100\n",
      "240/240 [==============================] - 1s 3ms/step - loss: 0.0952 - accuracy: 0.9659 - val_loss: 0.1334 - val_accuracy: 0.9530\n",
      "Epoch 10/100\n",
      "240/240 [==============================] - 1s 2ms/step - loss: 0.0908 - accuracy: 0.9680 - val_loss: 0.1293 - val_accuracy: 0.9525\n",
      "Epoch 11/100\n",
      "240/240 [==============================] - 1s 2ms/step - loss: 0.0810 - accuracy: 0.9725 - val_loss: 0.1210 - val_accuracy: 0.9572\n",
      "Epoch 12/100\n",
      "240/240 [==============================] - 1s 2ms/step - loss: 0.0741 - accuracy: 0.9732 - val_loss: 0.1258 - val_accuracy: 0.9582\n",
      "Epoch 13/100\n",
      "240/240 [==============================] - 1s 2ms/step - loss: 0.0725 - accuracy: 0.9751 - val_loss: 0.1254 - val_accuracy: 0.9551\n",
      "Epoch 14/100\n",
      "240/240 [==============================] - 1s 3ms/step - loss: 0.0636 - accuracy: 0.9770 - val_loss: 0.1327 - val_accuracy: 0.9530\n",
      "Epoch 15/100\n",
      "240/240 [==============================] - 1s 3ms/step - loss: 0.0649 - accuracy: 0.9776 - val_loss: 0.1304 - val_accuracy: 0.9562\n",
      "Epoch 16/100\n",
      "240/240 [==============================] - 1s 2ms/step - loss: 0.0556 - accuracy: 0.9816 - val_loss: 0.1279 - val_accuracy: 0.9619\n",
      "Epoch 17/100\n",
      "240/240 [==============================] - 1s 2ms/step - loss: 0.0563 - accuracy: 0.9802 - val_loss: 0.1333 - val_accuracy: 0.9582\n",
      "Epoch 18/100\n",
      "240/240 [==============================] - 1s 2ms/step - loss: 0.0514 - accuracy: 0.9819 - val_loss: 0.1380 - val_accuracy: 0.9582\n",
      "Epoch 19/100\n",
      "240/240 [==============================] - 1s 2ms/step - loss: 0.0439 - accuracy: 0.9850 - val_loss: 0.1453 - val_accuracy: 0.9588\n",
      "Epoch 20/100\n",
      "240/240 [==============================] - 1s 3ms/step - loss: 0.0416 - accuracy: 0.9860 - val_loss: 0.1416 - val_accuracy: 0.9562\n",
      "Epoch 21/100\n",
      "240/240 [==============================] - 1s 3ms/step - loss: 0.0433 - accuracy: 0.9842 - val_loss: 0.1534 - val_accuracy: 0.9478\n",
      "Epoch 22/100\n",
      "240/240 [==============================] - 1s 3ms/step - loss: 0.0442 - accuracy: 0.9847 - val_loss: 0.1560 - val_accuracy: 0.9567\n",
      "Epoch 23/100\n",
      "240/240 [==============================] - 1s 2ms/step - loss: 0.0345 - accuracy: 0.9885 - val_loss: 0.1402 - val_accuracy: 0.9577\n",
      "Epoch 24/100\n",
      "240/240 [==============================] - 1s 3ms/step - loss: 0.0348 - accuracy: 0.9879 - val_loss: 0.1531 - val_accuracy: 0.9582\n",
      "Epoch 25/100\n",
      "240/240 [==============================] - 1s 3ms/step - loss: 0.0334 - accuracy: 0.9871 - val_loss: 0.1612 - val_accuracy: 0.9556\n",
      "Epoch 26/100\n",
      "240/240 [==============================] - 1s 3ms/step - loss: 0.0297 - accuracy: 0.9896 - val_loss: 0.1536 - val_accuracy: 0.9614\n",
      "Epoch 27/100\n",
      "240/240 [==============================] - 1s 2ms/step - loss: 0.0276 - accuracy: 0.9913 - val_loss: 0.1450 - val_accuracy: 0.9609\n",
      "Epoch 28/100\n",
      "240/240 [==============================] - 1s 2ms/step - loss: 0.0294 - accuracy: 0.9897 - val_loss: 0.1608 - val_accuracy: 0.9520\n",
      "Epoch 29/100\n",
      "240/240 [==============================] - 1s 2ms/step - loss: 0.0268 - accuracy: 0.9910 - val_loss: 0.1686 - val_accuracy: 0.9577\n",
      "Epoch 30/100\n",
      "240/240 [==============================] - 1s 2ms/step - loss: 0.0278 - accuracy: 0.9903 - val_loss: 0.1903 - val_accuracy: 0.9629\n",
      "Epoch 31/100\n",
      "240/240 [==============================] - 1s 2ms/step - loss: 0.0208 - accuracy: 0.9932 - val_loss: 0.1589 - val_accuracy: 0.9624\n",
      "Epoch 32/100\n",
      "240/240 [==============================] - 1s 2ms/step - loss: 0.0199 - accuracy: 0.9931 - val_loss: 0.1750 - val_accuracy: 0.9562\n",
      "Epoch 33/100\n",
      "240/240 [==============================] - 1s 2ms/step - loss: 0.0187 - accuracy: 0.9945 - val_loss: 0.1652 - val_accuracy: 0.9619\n",
      "Epoch 34/100\n",
      "240/240 [==============================] - 1s 2ms/step - loss: 0.0210 - accuracy: 0.9927 - val_loss: 0.1813 - val_accuracy: 0.9593\n",
      "Epoch 35/100\n",
      "240/240 [==============================] - 1s 2ms/step - loss: 0.0279 - accuracy: 0.9902 - val_loss: 0.1761 - val_accuracy: 0.9593\n",
      "Epoch 36/100\n",
      "240/240 [==============================] - 1s 2ms/step - loss: 0.0247 - accuracy: 0.9909 - val_loss: 0.1759 - val_accuracy: 0.9609\n",
      "Epoch 37/100\n",
      "240/240 [==============================] - 1s 2ms/step - loss: 0.0188 - accuracy: 0.9940 - val_loss: 0.1679 - val_accuracy: 0.9603\n",
      "Epoch 38/100\n",
      "240/240 [==============================] - 1s 2ms/step - loss: 0.0179 - accuracy: 0.9940 - val_loss: 0.1766 - val_accuracy: 0.9603\n",
      "Epoch 39/100\n",
      "240/240 [==============================] - 1s 2ms/step - loss: 0.0166 - accuracy: 0.9944 - val_loss: 0.1955 - val_accuracy: 0.9598\n",
      "Epoch 40/100\n",
      "240/240 [==============================] - 1s 2ms/step - loss: 0.0162 - accuracy: 0.9957 - val_loss: 0.1785 - val_accuracy: 0.9567\n",
      "Epoch 41/100\n",
      "240/240 [==============================] - 1s 2ms/step - loss: 0.0189 - accuracy: 0.9935 - val_loss: 0.1903 - val_accuracy: 0.9614\n",
      "Epoch 42/100\n",
      "240/240 [==============================] - 1s 2ms/step - loss: 0.0165 - accuracy: 0.9940 - val_loss: 0.2918 - val_accuracy: 0.9541\n",
      "Epoch 43/100\n",
      "240/240 [==============================] - 1s 2ms/step - loss: 0.0239 - accuracy: 0.9911 - val_loss: 0.2204 - val_accuracy: 0.9525\n",
      "Epoch 44/100\n",
      "240/240 [==============================] - 1s 2ms/step - loss: 0.0375 - accuracy: 0.9900 - val_loss: 0.1881 - val_accuracy: 0.9598\n",
      "Epoch 45/100\n",
      "240/240 [==============================] - 1s 2ms/step - loss: 0.0103 - accuracy: 0.9971 - val_loss: 0.1833 - val_accuracy: 0.9593\n",
      "Epoch 46/100\n",
      "240/240 [==============================] - 1s 2ms/step - loss: 0.0100 - accuracy: 0.9973 - val_loss: 0.1885 - val_accuracy: 0.9619\n",
      "Epoch 47/100\n",
      "240/240 [==============================] - 1s 3ms/step - loss: 0.0087 - accuracy: 0.9975 - val_loss: 0.2086 - val_accuracy: 0.9577\n",
      "Epoch 48/100\n",
      "240/240 [==============================] - 1s 2ms/step - loss: 0.0064 - accuracy: 0.9987 - val_loss: 0.2085 - val_accuracy: 0.9614\n",
      "Epoch 49/100\n",
      "240/240 [==============================] - 1s 2ms/step - loss: 0.0083 - accuracy: 0.9979 - val_loss: 0.2157 - val_accuracy: 0.9593\n",
      "Epoch 50/100\n",
      "240/240 [==============================] - 1s 2ms/step - loss: 0.0279 - accuracy: 0.9907 - val_loss: 0.2394 - val_accuracy: 0.9447\n",
      "Epoch 51/100\n",
      "240/240 [==============================] - 1s 2ms/step - loss: 0.0269 - accuracy: 0.9896 - val_loss: 0.2168 - val_accuracy: 0.9593\n",
      "Epoch 52/100\n",
      "240/240 [==============================] - 1s 2ms/step - loss: 0.0127 - accuracy: 0.9963 - val_loss: 0.1994 - val_accuracy: 0.9567\n",
      "Epoch 53/100\n",
      "240/240 [==============================] - 1s 3ms/step - loss: 0.0147 - accuracy: 0.9944 - val_loss: 0.2300 - val_accuracy: 0.9567\n",
      "Epoch 54/100\n",
      "240/240 [==============================] - 1s 2ms/step - loss: 0.0181 - accuracy: 0.9933 - val_loss: 0.2149 - val_accuracy: 0.9614\n",
      "Epoch 55/100\n",
      "240/240 [==============================] - 1s 3ms/step - loss: 0.0167 - accuracy: 0.9943 - val_loss: 0.2591 - val_accuracy: 0.9619\n",
      "Epoch 56/100\n",
      "240/240 [==============================] - 1s 2ms/step - loss: 0.0118 - accuracy: 0.9963 - val_loss: 0.2227 - val_accuracy: 0.9603\n",
      "Epoch 57/100\n",
      "240/240 [==============================] - 1s 3ms/step - loss: 0.0101 - accuracy: 0.9971 - val_loss: 0.2335 - val_accuracy: 0.9614\n",
      "Epoch 58/100\n",
      "240/240 [==============================] - 1s 2ms/step - loss: 0.0071 - accuracy: 0.9979 - val_loss: 0.2318 - val_accuracy: 0.9619\n",
      "Epoch 59/100\n",
      "240/240 [==============================] - 1s 2ms/step - loss: 0.0151 - accuracy: 0.9949 - val_loss: 0.2470 - val_accuracy: 0.9603\n",
      "Epoch 60/100\n",
      "240/240 [==============================] - 1s 2ms/step - loss: 0.0081 - accuracy: 0.9974 - val_loss: 0.2652 - val_accuracy: 0.9603\n",
      "Epoch 61/100\n",
      "240/240 [==============================] - 1s 2ms/step - loss: 0.0229 - accuracy: 0.9915 - val_loss: 0.2561 - val_accuracy: 0.9593\n",
      "Epoch 62/100\n",
      "240/240 [==============================] - 1s 2ms/step - loss: 0.0162 - accuracy: 0.9950 - val_loss: 0.2075 - val_accuracy: 0.9614\n",
      "Epoch 63/100\n",
      "240/240 [==============================] - 1s 2ms/step - loss: 0.0154 - accuracy: 0.9956 - val_loss: 0.2276 - val_accuracy: 0.9635\n",
      "Epoch 64/100\n",
      "240/240 [==============================] - 1s 2ms/step - loss: 0.0096 - accuracy: 0.9970 - val_loss: 0.2435 - val_accuracy: 0.9572\n",
      "Epoch 65/100\n",
      "240/240 [==============================] - 1s 2ms/step - loss: 0.0056 - accuracy: 0.9984 - val_loss: 0.2499 - val_accuracy: 0.9650\n",
      "Epoch 66/100\n",
      "240/240 [==============================] - 1s 2ms/step - loss: 0.0034 - accuracy: 0.9991 - val_loss: 0.2414 - val_accuracy: 0.9614\n",
      "Epoch 67/100\n",
      "240/240 [==============================] - 1s 2ms/step - loss: 0.0024 - accuracy: 0.9995 - val_loss: 0.2433 - val_accuracy: 0.9624\n",
      "Epoch 68/100\n",
      "240/240 [==============================] - 1s 2ms/step - loss: 0.0046 - accuracy: 0.9982 - val_loss: 0.2632 - val_accuracy: 0.9603\n",
      "Epoch 69/100\n",
      "240/240 [==============================] - 1s 2ms/step - loss: 0.0281 - accuracy: 0.9909 - val_loss: 0.2729 - val_accuracy: 0.9546\n",
      "Epoch 70/100\n",
      "240/240 [==============================] - 1s 2ms/step - loss: 0.0320 - accuracy: 0.9897 - val_loss: 0.2290 - val_accuracy: 0.9619\n",
      "Epoch 71/100\n",
      "240/240 [==============================] - 1s 2ms/step - loss: 0.0093 - accuracy: 0.9970 - val_loss: 0.2201 - val_accuracy: 0.9624\n",
      "Epoch 72/100\n",
      "240/240 [==============================] - 1s 2ms/step - loss: 0.0048 - accuracy: 0.9988 - val_loss: 0.2354 - val_accuracy: 0.9598\n",
      "Epoch 73/100\n",
      "240/240 [==============================] - 1s 2ms/step - loss: 0.0035 - accuracy: 0.9992 - val_loss: 0.2526 - val_accuracy: 0.9609\n",
      "Epoch 74/100\n",
      "240/240 [==============================] - 1s 2ms/step - loss: 0.0036 - accuracy: 0.9991 - val_loss: 0.2732 - val_accuracy: 0.9609\n",
      "Epoch 75/100\n",
      "240/240 [==============================] - 1s 2ms/step - loss: 0.0037 - accuracy: 0.9990 - val_loss: 0.2623 - val_accuracy: 0.9635\n",
      "Epoch 76/100\n",
      "240/240 [==============================] - 1s 2ms/step - loss: 0.0017 - accuracy: 0.9996 - val_loss: 0.2951 - val_accuracy: 0.9577\n",
      "Epoch 77/100\n",
      "240/240 [==============================] - 1s 2ms/step - loss: 0.0287 - accuracy: 0.9919 - val_loss: 0.3328 - val_accuracy: 0.9525\n",
      "Epoch 78/100\n",
      "240/240 [==============================] - 1s 2ms/step - loss: 0.0191 - accuracy: 0.9928 - val_loss: 0.2691 - val_accuracy: 0.9609\n",
      "Epoch 79/100\n",
      "240/240 [==============================] - 1s 2ms/step - loss: 0.0251 - accuracy: 0.9941 - val_loss: 0.2519 - val_accuracy: 0.9619\n",
      "Epoch 80/100\n",
      "240/240 [==============================] - 1s 2ms/step - loss: 0.0064 - accuracy: 0.9979 - val_loss: 0.2603 - val_accuracy: 0.9598\n",
      "Epoch 81/100\n",
      "240/240 [==============================] - 1s 2ms/step - loss: 0.0027 - accuracy: 0.9996 - val_loss: 0.2489 - val_accuracy: 0.9640\n",
      "Epoch 82/100\n",
      "240/240 [==============================] - 1s 2ms/step - loss: 0.0024 - accuracy: 0.9991 - val_loss: 0.2619 - val_accuracy: 0.9640\n",
      "Epoch 83/100\n",
      "240/240 [==============================] - 1s 2ms/step - loss: 0.0015 - accuracy: 0.9997 - val_loss: 0.2678 - val_accuracy: 0.9650\n",
      "Epoch 84/100\n",
      "240/240 [==============================] - 1s 2ms/step - loss: 0.0012 - accuracy: 0.9997 - val_loss: 0.2751 - val_accuracy: 0.9640\n",
      "Epoch 85/100\n",
      "240/240 [==============================] - 1s 2ms/step - loss: 0.0018 - accuracy: 0.9995 - val_loss: 0.2803 - val_accuracy: 0.9629\n",
      "Epoch 86/100\n",
      "240/240 [==============================] - 1s 2ms/step - loss: 0.0027 - accuracy: 0.9993 - val_loss: 0.2743 - val_accuracy: 0.9593\n",
      "Epoch 87/100\n",
      "240/240 [==============================] - 1s 2ms/step - loss: 0.0082 - accuracy: 0.9974 - val_loss: 0.3233 - val_accuracy: 0.9562\n",
      "Epoch 88/100\n",
      "240/240 [==============================] - 1s 2ms/step - loss: 0.0454 - accuracy: 0.9860 - val_loss: 0.2389 - val_accuracy: 0.9577\n",
      "Epoch 89/100\n",
      "240/240 [==============================] - 1s 3ms/step - loss: 0.0077 - accuracy: 0.9974 - val_loss: 0.2340 - val_accuracy: 0.9577\n",
      "Epoch 90/100\n",
      "240/240 [==============================] - 1s 2ms/step - loss: 0.0070 - accuracy: 0.9979 - val_loss: 0.2447 - val_accuracy: 0.9609\n",
      "Epoch 91/100\n",
      "240/240 [==============================] - 1s 2ms/step - loss: 0.0030 - accuracy: 0.9993 - val_loss: 0.2480 - val_accuracy: 0.9614\n",
      "Epoch 92/100\n",
      "240/240 [==============================] - 1s 2ms/step - loss: 0.0015 - accuracy: 0.9997 - val_loss: 0.2615 - val_accuracy: 0.9624\n",
      "Epoch 93/100\n",
      "240/240 [==============================] - 1s 2ms/step - loss: 0.0014 - accuracy: 0.9999 - val_loss: 0.2629 - val_accuracy: 0.9619\n",
      "Epoch 94/100\n",
      "240/240 [==============================] - 1s 2ms/step - loss: 0.0181 - accuracy: 0.9950 - val_loss: 0.2856 - val_accuracy: 0.9520\n",
      "Epoch 95/100\n",
      "240/240 [==============================] - 1s 2ms/step - loss: 0.0161 - accuracy: 0.9952 - val_loss: 0.2142 - val_accuracy: 0.9614\n",
      "Epoch 96/100\n",
      "240/240 [==============================] - 1s 2ms/step - loss: 0.0129 - accuracy: 0.9963 - val_loss: 0.2317 - val_accuracy: 0.9588\n",
      "Epoch 97/100\n",
      "240/240 [==============================] - 1s 2ms/step - loss: 0.0085 - accuracy: 0.9967 - val_loss: 0.2455 - val_accuracy: 0.9619\n",
      "Epoch 98/100\n",
      "240/240 [==============================] - 1s 2ms/step - loss: 0.0042 - accuracy: 0.9987 - val_loss: 0.2705 - val_accuracy: 0.9629\n",
      "Epoch 99/100\n",
      "240/240 [==============================] - 1s 3ms/step - loss: 0.0041 - accuracy: 0.9984 - val_loss: 0.2466 - val_accuracy: 0.9635\n",
      "Epoch 100/100\n",
      "240/240 [==============================] - 1s 2ms/step - loss: 0.0014 - accuracy: 0.9996 - val_loss: 0.2525 - val_accuracy: 0.9640\n"
     ]
    }
   ],
   "source": [
    "result = model.fit(X_train_scaled, \n",
    "                   y_train,\n",
    "                   validation_data = (X_test_scaled, y_test),\n",
    "                   epochs=100)"
   ]
  },
  {
   "cell_type": "code",
   "execution_count": 72,
   "metadata": {},
   "outputs": [],
   "source": [
    "y_train_pred = model.predict(X_train_scaled)\n",
    "y_test_pred = model.predict(X_test_scaled)"
   ]
  },
  {
   "cell_type": "code",
   "execution_count": 73,
   "metadata": {},
   "outputs": [
    {
     "data": {
      "text/plain": [
       "array([ True])"
      ]
     },
     "execution_count": 73,
     "metadata": {},
     "output_type": "execute_result"
    }
   ],
   "source": [
    "y_train_pred[0] >=0.5"
   ]
  },
  {
   "cell_type": "code",
   "execution_count": 74,
   "metadata": {},
   "outputs": [],
   "source": [
    "from sklearn.metrics import confusion_matrix, accuracy_score"
   ]
  },
  {
   "cell_type": "code",
   "execution_count": 75,
   "metadata": {},
   "outputs": [
    {
     "data": {
      "text/plain": [
       "array([[1493,    1],\n",
       "       [   0, 6168]])"
      ]
     },
     "execution_count": 75,
     "metadata": {},
     "output_type": "execute_result"
    }
   ],
   "source": [
    "confusion_matrix(y_pred=y_train_pred >= 0.5, \n",
    "                 y_true = y_train)"
   ]
  },
  {
   "cell_type": "code",
   "execution_count": 76,
   "metadata": {},
   "outputs": [
    {
     "data": {
      "text/plain": [
       "0.9998694857739494"
      ]
     },
     "execution_count": 76,
     "metadata": {},
     "output_type": "execute_result"
    }
   ],
   "source": [
    "accuracy_score(y_pred=y_train_pred >= 0.5, \n",
    "               y_true = y_train)"
   ]
  },
  {
   "cell_type": "code",
   "execution_count": 77,
   "metadata": {},
   "outputs": [
    {
     "data": {
      "text/plain": [
       "array([[ 331,   43],\n",
       "       [  26, 1516]])"
      ]
     },
     "execution_count": 77,
     "metadata": {},
     "output_type": "execute_result"
    }
   ],
   "source": [
    "confusion_matrix(y_pred=y_test_pred >= 0.5, \n",
    "                 y_true = y_test)"
   ]
  },
  {
   "cell_type": "code",
   "execution_count": 78,
   "metadata": {},
   "outputs": [
    {
     "data": {
      "text/plain": [
       "0.9639874739039666"
      ]
     },
     "execution_count": 78,
     "metadata": {},
     "output_type": "execute_result"
    }
   ],
   "source": [
    "accuracy_score(y_pred=y_test_pred >= 0.5, \n",
    "               y_true = y_test)"
   ]
  },
  {
   "cell_type": "code",
   "execution_count": 79,
   "metadata": {},
   "outputs": [],
   "source": [
    "history = pd.DataFrame(result.history)"
   ]
  },
  {
   "cell_type": "code",
   "execution_count": 80,
   "metadata": {},
   "outputs": [
    {
     "data": {
      "text/html": [
       "<div>\n",
       "<style scoped>\n",
       "    .dataframe tbody tr th:only-of-type {\n",
       "        vertical-align: middle;\n",
       "    }\n",
       "\n",
       "    .dataframe tbody tr th {\n",
       "        vertical-align: top;\n",
       "    }\n",
       "\n",
       "    .dataframe thead th {\n",
       "        text-align: right;\n",
       "    }\n",
       "</style>\n",
       "<table border=\"1\" class=\"dataframe\">\n",
       "  <thead>\n",
       "    <tr style=\"text-align: right;\">\n",
       "      <th></th>\n",
       "      <th>loss</th>\n",
       "      <th>accuracy</th>\n",
       "      <th>val_loss</th>\n",
       "      <th>val_accuracy</th>\n",
       "    </tr>\n",
       "  </thead>\n",
       "  <tbody>\n",
       "    <tr>\n",
       "      <th>0</th>\n",
       "      <td>0.295676</td>\n",
       "      <td>0.884625</td>\n",
       "      <td>0.242233</td>\n",
       "      <td>0.897182</td>\n",
       "    </tr>\n",
       "    <tr>\n",
       "      <th>1</th>\n",
       "      <td>0.214441</td>\n",
       "      <td>0.916340</td>\n",
       "      <td>0.201470</td>\n",
       "      <td>0.915971</td>\n",
       "    </tr>\n",
       "    <tr>\n",
       "      <th>2</th>\n",
       "      <td>0.187807</td>\n",
       "      <td>0.924302</td>\n",
       "      <td>0.208591</td>\n",
       "      <td>0.907620</td>\n",
       "    </tr>\n",
       "    <tr>\n",
       "      <th>3</th>\n",
       "      <td>0.163033</td>\n",
       "      <td>0.934221</td>\n",
       "      <td>0.170977</td>\n",
       "      <td>0.932150</td>\n",
       "    </tr>\n",
       "    <tr>\n",
       "      <th>4</th>\n",
       "      <td>0.145863</td>\n",
       "      <td>0.943357</td>\n",
       "      <td>0.159868</td>\n",
       "      <td>0.937370</td>\n",
       "    </tr>\n",
       "  </tbody>\n",
       "</table>\n",
       "</div>"
      ],
      "text/plain": [
       "       loss  accuracy  val_loss  val_accuracy\n",
       "0  0.295676  0.884625  0.242233      0.897182\n",
       "1  0.214441  0.916340  0.201470      0.915971\n",
       "2  0.187807  0.924302  0.208591      0.907620\n",
       "3  0.163033  0.934221  0.170977      0.932150\n",
       "4  0.145863  0.943357  0.159868      0.937370"
      ]
     },
     "execution_count": 80,
     "metadata": {},
     "output_type": "execute_result"
    }
   ],
   "source": [
    "history.head()"
   ]
  },
  {
   "cell_type": "code",
   "execution_count": 81,
   "metadata": {},
   "outputs": [],
   "source": [
    "import matplotlib.pyplot as plt"
   ]
  },
  {
   "cell_type": "code",
   "execution_count": 82,
   "metadata": {},
   "outputs": [
    {
     "data": {
      "image/png": "[encoded data removed]",
      "text/plain": [
       "<Figure size 1800x432 with 1 Axes>"
      ]
     },
     "metadata": {
      "needs_background": "light"
     },
     "output_type": "display_data"
    }
   ],
   "source": [
    "plt.figure(figsize = (25,6))\n",
    "plt.plot(history.val_loss, label='Test Set Loss')\n",
    "plt.plot(history.loss, label='Training Set Loss')\n",
    "plt.title('Epochs vs Loss')\n",
    "plt.xlabel('Epochs')\n",
    "plt.ylabel('Loss')\n",
    "plt.legend()\n",
    "plt.show()"
   ]
  },
  {
   "cell_type": "code",
   "execution_count": 83,
   "metadata": {},
   "outputs": [
    {
     "data": {
      "image/png": "[encoded data removed]",
      "text/plain": [
       "<Figure size 1080x432 with 1 Axes>"
      ]
     },
     "metadata": {
      "needs_background": "light"
     },
     "output_type": "display_data"
    }
   ],
   "source": [
    "plt.figure(figsize = (15,6))\n",
    "plt.plot(history.val_accuracy, label='Test Set Accuracy')\n",
    "plt.plot(history.accuracy, label='Training Set Accuracy')\n",
    "plt.title('Epochs vs Accuracy')\n",
    "plt.xlabel('Epochs')\n",
    "plt.ylabel('Accuracy')\n",
    "plt.legend()\n",
    "plt.show()"
   ]
  },
  {
   "cell_type": "code",
   "execution_count": null,
   "metadata": {},
   "outputs": [],
   "source": []
  }
 ],
 "metadata": {
  "kernelspec": {
   "display_name": "Python 3",
   "language": "python",
   "name": "python3"
  },
  "language_info": {
   "codemirror_mode": {
    "name": "ipython",
    "version": 3
   },
   "file_extension": ".py",
   "mimetype": "text/x-python",
   "name": "python",
   "nbconvert_exporter": "python",
   "pygments_lexer": "ipython3",
   "version": "3.7.6"
  }
 },
 "nbformat": 4,
 "nbformat_minor": 4
}
